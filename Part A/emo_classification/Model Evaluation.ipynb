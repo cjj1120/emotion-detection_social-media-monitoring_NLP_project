{
 "cells": [
  {
   "cell_type": "markdown",
   "id": "c68896e8",
   "metadata": {},
   "source": [
    "# Note\n",
    "Model is taken at its best, meaning lowest training loss and validation loss.  "
   ]
  },
  {
   "cell_type": "markdown",
   "id": "3eb10c7c",
   "metadata": {},
   "source": [
    "# Load up evaluation dataset"
   ]
  },
  {
   "cell_type": "code",
   "execution_count": 31,
   "id": "d8625b8c",
   "metadata": {},
   "outputs": [
    {
     "data": {
      "text/plain": [
       "['emo_ds.csv', 'emo_evaluation_lbe.csv', 'emo_evaluation.csv', 'emo_ds.txt']"
      ]
     },
     "execution_count": 31,
     "metadata": {},
     "output_type": "execute_result"
    }
   ],
   "source": [
    "import pandas as pd \n",
    "import numpy as np\n",
    "import os \n",
    "\n",
    "from transformers import AutoModelForSequenceClassification, AutoTokenizer\n",
    "import transformers\n",
    "\n",
    "import matplotlib\n",
    "import matplotlib.pyplot as plt\n",
    "import seaborn as sns\n",
    "from matplotlib.lines import Line2D\n",
    "sns.set_theme(style=\"white\", palette=\"mako\")\n",
    "matplotlib.rcParams['figure.figsize'] = 12, 8\n",
    "os.listdir('./dataset')"
   ]
  },
  {
   "cell_type": "code",
   "execution_count": 35,
   "id": "5f039530",
   "metadata": {},
   "outputs": [
    {
     "data": {
      "text/plain": [
       "'/Users/jiong/Code/ForwardSchool/fs-FinalProject/nlp-testground/emo_classification'"
      ]
     },
     "execution_count": 35,
     "metadata": {},
     "output_type": "execute_result"
    }
   ],
   "source": [
    "os.getcwd()"
   ]
  },
  {
   "cell_type": "code",
   "execution_count": 3,
   "id": "177f680b",
   "metadata": {},
   "outputs": [
    {
     "data": {
      "text/html": [
       "<div>\n",
       "<style scoped>\n",
       "    .dataframe tbody tr th:only-of-type {\n",
       "        vertical-align: middle;\n",
       "    }\n",
       "\n",
       "    .dataframe tbody tr th {\n",
       "        vertical-align: top;\n",
       "    }\n",
       "\n",
       "    .dataframe thead th {\n",
       "        text-align: right;\n",
       "    }\n",
       "</style>\n",
       "<table border=\"1\" class=\"dataframe\">\n",
       "  <thead>\n",
       "    <tr style=\"text-align: right;\">\n",
       "      <th></th>\n",
       "      <th>sentence</th>\n",
       "      <th>label</th>\n",
       "    </tr>\n",
       "  </thead>\n",
       "  <tbody>\n",
       "    <tr>\n",
       "      <th>0</th>\n",
       "      <td>i feel like not caring</td>\n",
       "      <td>love</td>\n",
       "    </tr>\n",
       "    <tr>\n",
       "      <th>1</th>\n",
       "      <td>i are gay and feel assaulted by the right wing</td>\n",
       "      <td>fear</td>\n",
       "    </tr>\n",
       "    <tr>\n",
       "      <th>2</th>\n",
       "      <td>i think all acts of unkindness are a result of...</td>\n",
       "      <td>anger</td>\n",
       "    </tr>\n",
       "    <tr>\n",
       "      <th>3</th>\n",
       "      <td>i will never make him feel disliked and like h...</td>\n",
       "      <td>sadness</td>\n",
       "    </tr>\n",
       "    <tr>\n",
       "      <th>4</th>\n",
       "      <td>i think he is the next best because i see a lo...</td>\n",
       "      <td>joy</td>\n",
       "    </tr>\n",
       "  </tbody>\n",
       "</table>\n",
       "</div>"
      ],
      "text/plain": [
       "                                            sentence    label\n",
       "0                             i feel like not caring     love\n",
       "1     i are gay and feel assaulted by the right wing     fear\n",
       "2  i think all acts of unkindness are a result of...    anger\n",
       "3  i will never make him feel disliked and like h...  sadness\n",
       "4  i think he is the next best because i see a lo...      joy"
      ]
     },
     "execution_count": 3,
     "metadata": {},
     "output_type": "execute_result"
    }
   ],
   "source": [
    "pd.read_csv(\"./dataset/emo_evaluation.csv\").head()"
   ]
  },
  {
   "cell_type": "code",
   "execution_count": 53,
   "id": "31f713fb",
   "metadata": {},
   "outputs": [
    {
     "data": {
      "text/html": [
       "<div>\n",
       "<style scoped>\n",
       "    .dataframe tbody tr th:only-of-type {\n",
       "        vertical-align: middle;\n",
       "    }\n",
       "\n",
       "    .dataframe tbody tr th {\n",
       "        vertical-align: top;\n",
       "    }\n",
       "\n",
       "    .dataframe thead th {\n",
       "        text-align: right;\n",
       "    }\n",
       "</style>\n",
       "<table border=\"1\" class=\"dataframe\">\n",
       "  <thead>\n",
       "    <tr style=\"text-align: right;\">\n",
       "      <th></th>\n",
       "      <th>text</th>\n",
       "      <th>label</th>\n",
       "    </tr>\n",
       "  </thead>\n",
       "  <tbody>\n",
       "    <tr>\n",
       "      <th>0</th>\n",
       "      <td>i feel like not caring</td>\n",
       "      <td>3</td>\n",
       "    </tr>\n",
       "    <tr>\n",
       "      <th>1</th>\n",
       "      <td>i are gay and feel assaulted by the right wing</td>\n",
       "      <td>1</td>\n",
       "    </tr>\n",
       "    <tr>\n",
       "      <th>2</th>\n",
       "      <td>i think all acts of unkindness are a result of...</td>\n",
       "      <td>0</td>\n",
       "    </tr>\n",
       "    <tr>\n",
       "      <th>3</th>\n",
       "      <td>i will never make him feel disliked and like h...</td>\n",
       "      <td>4</td>\n",
       "    </tr>\n",
       "    <tr>\n",
       "      <th>4</th>\n",
       "      <td>i think he is the next best because i see a lo...</td>\n",
       "      <td>2</td>\n",
       "    </tr>\n",
       "  </tbody>\n",
       "</table>\n",
       "</div>"
      ],
      "text/plain": [
       "                                                text  label\n",
       "0                             i feel like not caring      3\n",
       "1     i are gay and feel assaulted by the right wing      1\n",
       "2  i think all acts of unkindness are a result of...      0\n",
       "3  i will never make him feel disliked and like h...      4\n",
       "4  i think he is the next best because i see a lo...      2"
      ]
     },
     "execution_count": 53,
     "metadata": {},
     "output_type": "execute_result"
    }
   ],
   "source": [
    "df = pd.read_csv(\"./dataset/emo_evaluation_lbe.csv\")\n",
    "df.head()"
   ]
  },
  {
   "cell_type": "code",
   "execution_count": 54,
   "id": "b0a662a8",
   "metadata": {},
   "outputs": [],
   "source": [
    "emotions = {0:'anger', 1:'fear', 2:'joy', 3:'love', 4:'sadness', 5:'surprise'}"
   ]
  },
  {
   "cell_type": "code",
   "execution_count": 55,
   "id": "d51274dc",
   "metadata": {},
   "outputs": [],
   "source": [
    "evaluation_data = df.text.values.tolist()\n",
    "y_true = df.label.values.tolist()"
   ]
  },
  {
   "cell_type": "code",
   "execution_count": null,
   "id": "6e7a046a",
   "metadata": {},
   "outputs": [],
   "source": []
  },
  {
   "cell_type": "markdown",
   "id": "eba5cd93",
   "metadata": {},
   "source": [
    "# Model 1: Microsoft/xtremedistil-l6-h384-uncased"
   ]
  },
  {
   "cell_type": "code",
   "execution_count": 29,
   "id": "f538caf4",
   "metadata": {},
   "outputs": [],
   "source": []
  },
  {
   "cell_type": "code",
   "execution_count": 10,
   "id": "92afc27e",
   "metadata": {},
   "outputs": [],
   "source": [
    "\n",
    "columns = [\"Epoch\", \"Training Loss\", \"Validation Loss\"]\n",
    "raw_data = [(1, 0.372400, 0.333598),\n",
    "    (2, 0.277500, 0.262505),\n",
    "    (3, 0.235000, 0.216206),\n",
    "    (4, 0.199200, 0.180761),\n",
    "    (5, 0.172300, 0.158213),\n",
    "    (6, 0.152100, 0.143179),\n",
    "    (7, 0.143000, 0.133735),\n",
    "    (8, 0.134000, 0.127749),\n",
    "    (9, 0.125400, 0.125538),\n",
    "    (1, 0.126300, 0.123785),\n",
    "    (1, 0.111200, 0.108629),\n",
    "    (2, 0.098700, 0.101805),\n",
    "    (3, 0.091600, 0.090167),\n",
    "    (4, 0.083400, 0.085851),\n",
    "    (5, 0.077400, 0.085138),\n",
    "    (6, 0.071600, 0.081778),\n",
    "    (7, 0.068800, 0.080090),\n",
    "    (8, 0.071400, 0.078629),\n",
    "    (9, 0.063500, 0.079561),\n",
    "    (10,0.063700,0.078489),\n",
    "    (1, 0.058600, 0.078357),\n",
    "    (2, 0.051900, 0.082639),\n",
    "    (3, 0.053500, 0.079788),\n",
    "    (4, 0.053700, 0.077560),\n",
    "    (5, 0.047700, 0.082819),\n",
    "    (6, 0.046400, 0.083885),\n",
    "    (7, 0.044200, 0.082203),\n",
    "    (8, 0.047000, 0.081549),\n",
    "    (9, 0.043100, 0.084228),\n",
    "    (10,0.041100,0.081586),\n",
    "    (11,0.044000,0.081943),\n",
    "    (12,0.037300,0.082717),\n",
    "    (13,0.040200,0.084581),\n",
    "    (14,0.036800,0.085591),\n",
    "    (15,0.034300,0.084093),\n",
    "    (16,0.036000,0.084867),\n",
    "    (17,0.032400,0.085053),\n",
    "    (18,0.030200,0.085233),\n",
    "    (19,0.030300,0.085616),\n",
    "    (20,0.035100,0.086052)]"
   ]
  },
  {
   "cell_type": "code",
   "execution_count": 14,
   "id": "8c7348e4",
   "metadata": {},
   "outputs": [
    {
     "data": {
      "text/html": [
       "<div>\n",
       "<style scoped>\n",
       "    .dataframe tbody tr th:only-of-type {\n",
       "        vertical-align: middle;\n",
       "    }\n",
       "\n",
       "    .dataframe tbody tr th {\n",
       "        vertical-align: top;\n",
       "    }\n",
       "\n",
       "    .dataframe thead th {\n",
       "        text-align: right;\n",
       "    }\n",
       "</style>\n",
       "<table border=\"1\" class=\"dataframe\">\n",
       "  <thead>\n",
       "    <tr style=\"text-align: right;\">\n",
       "      <th></th>\n",
       "      <th>Epoch</th>\n",
       "      <th>Training Loss</th>\n",
       "      <th>Validation Loss</th>\n",
       "    </tr>\n",
       "  </thead>\n",
       "  <tbody>\n",
       "    <tr>\n",
       "      <th>0</th>\n",
       "      <td>1</td>\n",
       "      <td>0.3724</td>\n",
       "      <td>0.333598</td>\n",
       "    </tr>\n",
       "    <tr>\n",
       "      <th>1</th>\n",
       "      <td>2</td>\n",
       "      <td>0.2775</td>\n",
       "      <td>0.262505</td>\n",
       "    </tr>\n",
       "    <tr>\n",
       "      <th>2</th>\n",
       "      <td>3</td>\n",
       "      <td>0.2350</td>\n",
       "      <td>0.216206</td>\n",
       "    </tr>\n",
       "    <tr>\n",
       "      <th>3</th>\n",
       "      <td>4</td>\n",
       "      <td>0.1992</td>\n",
       "      <td>0.180761</td>\n",
       "    </tr>\n",
       "    <tr>\n",
       "      <th>4</th>\n",
       "      <td>5</td>\n",
       "      <td>0.1723</td>\n",
       "      <td>0.158213</td>\n",
       "    </tr>\n",
       "  </tbody>\n",
       "</table>\n",
       "</div>"
      ],
      "text/plain": [
       "   Epoch  Training Loss  Validation Loss\n",
       "0      1         0.3724         0.333598\n",
       "1      2         0.2775         0.262505\n",
       "2      3         0.2350         0.216206\n",
       "3      4         0.1992         0.180761\n",
       "4      5         0.1723         0.158213"
      ]
     },
     "execution_count": 14,
     "metadata": {},
     "output_type": "execute_result"
    }
   ],
   "source": [
    "df = pd.DataFrame(raw_data, columns=columns)\n",
    "df.Epoch = [x for x in range(1, len(df)+1)]\n",
    "df.head()"
   ]
  },
  {
   "cell_type": "code",
   "execution_count": 32,
   "id": "3cdaf329",
   "metadata": {
    "scrolled": false
   },
   "outputs": [
    {
     "data": {
      "text/plain": [
       "Text(0.5, 1.0, 'Model Microsoft-xtremedistil Training & Validation Loss')"
      ]
     },
     "execution_count": 32,
     "metadata": {},
     "output_type": "execute_result"
    },
    {
     "data": {
      "image/png": "[encoded data removed]",
      "text/plain": [
       "<Figure size 720x576 with 2 Axes>"
      ]
     },
     "metadata": {},
     "output_type": "display_data"
    }
   ],
   "source": [
    "\n",
    "fig, ax = plt.subplots(figsize=(10,8))\n",
    "\n",
    "first = sns.lineplot(data=df, x= 'Epoch', y='Training Loss', color=\"g\", ax =ax)\n",
    "\n",
    "sns.lineplot(data=df, x= 'Epoch', y='Validation Loss', color=\"b\", ax=first.axes.twinx())\n",
    "\n",
    "first.legend(handles=[Line2D([], [], marker='_', color=\"g\", label='Training Loss'), \n",
    "                      Line2D([], [], marker='_', color=\"b\", label='Validation Loss')])\n",
    "\n",
    "ax.set_title(\"Model Microsoft-xtremedistil Training & Validation Loss\")"
   ]
  },
  {
   "cell_type": "code",
   "execution_count": 36,
   "id": "ed08c703",
   "metadata": {},
   "outputs": [],
   "source": [
    "#plt.savefig('Model_1-Microsoft-xtremedistil Training & Validation Loss.png')\n",
    "first.figure.savefig('Model_1-Microsoft-xtremedistil Training & Validation Loss.png')"
   ]
  },
  {
   "cell_type": "markdown",
   "id": "7a7f6a79",
   "metadata": {},
   "source": [
    "## Import fine tuned model "
   ]
  },
  {
   "cell_type": "code",
   "execution_count": 25,
   "id": "a6740040",
   "metadata": {},
   "outputs": [],
   "source": [
    "\n",
    "model_name = 'microsoft/xtremedistil-l6-h384-uncased'\n",
    "tokenizer = AutoTokenizer.from_pretrained(model_name)\n",
    "model = AutoModelForSequenceClassification.from_pretrained(\"./microsoft-xtremedistil/checkpoint-17500/\")"
   ]
  },
  {
   "cell_type": "code",
   "execution_count": 26,
   "id": "975dcfbc",
   "metadata": {},
   "outputs": [
    {
     "data": {
      "text/plain": [
       "BertForSequenceClassification(\n",
       "  (bert): BertModel(\n",
       "    (embeddings): BertEmbeddings(\n",
       "      (word_embeddings): Embedding(30522, 384, padding_idx=0)\n",
       "      (position_embeddings): Embedding(512, 384)\n",
       "      (token_type_embeddings): Embedding(2, 384)\n",
       "      (LayerNorm): LayerNorm((384,), eps=1e-12, elementwise_affine=True)\n",
       "      (dropout): Dropout(p=0.1, inplace=False)\n",
       "    )\n",
       "    (encoder): BertEncoder(\n",
       "      (layer): ModuleList(\n",
       "        (0): BertLayer(\n",
       "          (attention): BertAttention(\n",
       "            (self): BertSelfAttention(\n",
       "              (query): Linear(in_features=384, out_features=384, bias=True)\n",
       "              (key): Linear(in_features=384, out_features=384, bias=True)\n",
       "              (value): Linear(in_features=384, out_features=384, bias=True)\n",
       "              (dropout): Dropout(p=0.1, inplace=False)\n",
       "            )\n",
       "            (output): BertSelfOutput(\n",
       "              (dense): Linear(in_features=384, out_features=384, bias=True)\n",
       "              (LayerNorm): LayerNorm((384,), eps=1e-12, elementwise_affine=True)\n",
       "              (dropout): Dropout(p=0.1, inplace=False)\n",
       "            )\n",
       "          )\n",
       "          (intermediate): BertIntermediate(\n",
       "            (dense): Linear(in_features=384, out_features=1536, bias=True)\n",
       "            (intermediate_act_fn): GELUActivation()\n",
       "          )\n",
       "          (output): BertOutput(\n",
       "            (dense): Linear(in_features=1536, out_features=384, bias=True)\n",
       "            (LayerNorm): LayerNorm((384,), eps=1e-12, elementwise_affine=True)\n",
       "            (dropout): Dropout(p=0.1, inplace=False)\n",
       "          )\n",
       "        )\n",
       "        (1): BertLayer(\n",
       "          (attention): BertAttention(\n",
       "            (self): BertSelfAttention(\n",
       "              (query): Linear(in_features=384, out_features=384, bias=True)\n",
       "              (key): Linear(in_features=384, out_features=384, bias=True)\n",
       "              (value): Linear(in_features=384, out_features=384, bias=True)\n",
       "              (dropout): Dropout(p=0.1, inplace=False)\n",
       "            )\n",
       "            (output): BertSelfOutput(\n",
       "              (dense): Linear(in_features=384, out_features=384, bias=True)\n",
       "              (LayerNorm): LayerNorm((384,), eps=1e-12, elementwise_affine=True)\n",
       "              (dropout): Dropout(p=0.1, inplace=False)\n",
       "            )\n",
       "          )\n",
       "          (intermediate): BertIntermediate(\n",
       "            (dense): Linear(in_features=384, out_features=1536, bias=True)\n",
       "            (intermediate_act_fn): GELUActivation()\n",
       "          )\n",
       "          (output): BertOutput(\n",
       "            (dense): Linear(in_features=1536, out_features=384, bias=True)\n",
       "            (LayerNorm): LayerNorm((384,), eps=1e-12, elementwise_affine=True)\n",
       "            (dropout): Dropout(p=0.1, inplace=False)\n",
       "          )\n",
       "        )\n",
       "        (2): BertLayer(\n",
       "          (attention): BertAttention(\n",
       "            (self): BertSelfAttention(\n",
       "              (query): Linear(in_features=384, out_features=384, bias=True)\n",
       "              (key): Linear(in_features=384, out_features=384, bias=True)\n",
       "              (value): Linear(in_features=384, out_features=384, bias=True)\n",
       "              (dropout): Dropout(p=0.1, inplace=False)\n",
       "            )\n",
       "            (output): BertSelfOutput(\n",
       "              (dense): Linear(in_features=384, out_features=384, bias=True)\n",
       "              (LayerNorm): LayerNorm((384,), eps=1e-12, elementwise_affine=True)\n",
       "              (dropout): Dropout(p=0.1, inplace=False)\n",
       "            )\n",
       "          )\n",
       "          (intermediate): BertIntermediate(\n",
       "            (dense): Linear(in_features=384, out_features=1536, bias=True)\n",
       "            (intermediate_act_fn): GELUActivation()\n",
       "          )\n",
       "          (output): BertOutput(\n",
       "            (dense): Linear(in_features=1536, out_features=384, bias=True)\n",
       "            (LayerNorm): LayerNorm((384,), eps=1e-12, elementwise_affine=True)\n",
       "            (dropout): Dropout(p=0.1, inplace=False)\n",
       "          )\n",
       "        )\n",
       "        (3): BertLayer(\n",
       "          (attention): BertAttention(\n",
       "            (self): BertSelfAttention(\n",
       "              (query): Linear(in_features=384, out_features=384, bias=True)\n",
       "              (key): Linear(in_features=384, out_features=384, bias=True)\n",
       "              (value): Linear(in_features=384, out_features=384, bias=True)\n",
       "              (dropout): Dropout(p=0.1, inplace=False)\n",
       "            )\n",
       "            (output): BertSelfOutput(\n",
       "              (dense): Linear(in_features=384, out_features=384, bias=True)\n",
       "              (LayerNorm): LayerNorm((384,), eps=1e-12, elementwise_affine=True)\n",
       "              (dropout): Dropout(p=0.1, inplace=False)\n",
       "            )\n",
       "          )\n",
       "          (intermediate): BertIntermediate(\n",
       "            (dense): Linear(in_features=384, out_features=1536, bias=True)\n",
       "            (intermediate_act_fn): GELUActivation()\n",
       "          )\n",
       "          (output): BertOutput(\n",
       "            (dense): Linear(in_features=1536, out_features=384, bias=True)\n",
       "            (LayerNorm): LayerNorm((384,), eps=1e-12, elementwise_affine=True)\n",
       "            (dropout): Dropout(p=0.1, inplace=False)\n",
       "          )\n",
       "        )\n",
       "        (4): BertLayer(\n",
       "          (attention): BertAttention(\n",
       "            (self): BertSelfAttention(\n",
       "              (query): Linear(in_features=384, out_features=384, bias=True)\n",
       "              (key): Linear(in_features=384, out_features=384, bias=True)\n",
       "              (value): Linear(in_features=384, out_features=384, bias=True)\n",
       "              (dropout): Dropout(p=0.1, inplace=False)\n",
       "            )\n",
       "            (output): BertSelfOutput(\n",
       "              (dense): Linear(in_features=384, out_features=384, bias=True)\n",
       "              (LayerNorm): LayerNorm((384,), eps=1e-12, elementwise_affine=True)\n",
       "              (dropout): Dropout(p=0.1, inplace=False)\n",
       "            )\n",
       "          )\n",
       "          (intermediate): BertIntermediate(\n",
       "            (dense): Linear(in_features=384, out_features=1536, bias=True)\n",
       "            (intermediate_act_fn): GELUActivation()\n",
       "          )\n",
       "          (output): BertOutput(\n",
       "            (dense): Linear(in_features=1536, out_features=384, bias=True)\n",
       "            (LayerNorm): LayerNorm((384,), eps=1e-12, elementwise_affine=True)\n",
       "            (dropout): Dropout(p=0.1, inplace=False)\n",
       "          )\n",
       "        )\n",
       "        (5): BertLayer(\n",
       "          (attention): BertAttention(\n",
       "            (self): BertSelfAttention(\n",
       "              (query): Linear(in_features=384, out_features=384, bias=True)\n",
       "              (key): Linear(in_features=384, out_features=384, bias=True)\n",
       "              (value): Linear(in_features=384, out_features=384, bias=True)\n",
       "              (dropout): Dropout(p=0.1, inplace=False)\n",
       "            )\n",
       "            (output): BertSelfOutput(\n",
       "              (dense): Linear(in_features=384, out_features=384, bias=True)\n",
       "              (LayerNorm): LayerNorm((384,), eps=1e-12, elementwise_affine=True)\n",
       "              (dropout): Dropout(p=0.1, inplace=False)\n",
       "            )\n",
       "          )\n",
       "          (intermediate): BertIntermediate(\n",
       "            (dense): Linear(in_features=384, out_features=1536, bias=True)\n",
       "            (intermediate_act_fn): GELUActivation()\n",
       "          )\n",
       "          (output): BertOutput(\n",
       "            (dense): Linear(in_features=1536, out_features=384, bias=True)\n",
       "            (LayerNorm): LayerNorm((384,), eps=1e-12, elementwise_affine=True)\n",
       "            (dropout): Dropout(p=0.1, inplace=False)\n",
       "          )\n",
       "        )\n",
       "      )\n",
       "    )\n",
       "    (pooler): BertPooler(\n",
       "      (dense): Linear(in_features=384, out_features=384, bias=True)\n",
       "      (activation): Tanh()\n",
       "    )\n",
       "  )\n",
       "  (dropout): Dropout(p=0.1, inplace=False)\n",
       "  (classifier): Linear(in_features=384, out_features=6, bias=True)\n",
       ")"
      ]
     },
     "execution_count": 26,
     "metadata": {},
     "output_type": "execute_result"
    }
   ],
   "source": [
    "model"
   ]
  },
  {
   "cell_type": "code",
   "execution_count": 27,
   "id": "9bd36a1e",
   "metadata": {},
   "outputs": [],
   "source": [
    "emotions = ['anger', 'fear', 'joy', 'love', 'sadness', 'surprise']"
   ]
  },
  {
   "cell_type": "code",
   "execution_count": 30,
   "id": "f252e5d5",
   "metadata": {},
   "outputs": [],
   "source": [
    "pipeline = transformers.pipeline(\"text-classification\",model=model,tokenizer=tokenizer)"
   ]
  },
  {
   "cell_type": "code",
   "execution_count": 35,
   "id": "daf98089",
   "metadata": {},
   "outputs": [
    {
     "data": {
      "text/plain": [
       "[{'label': 'LABEL_0', 'score': 0.9720615148544312}]"
      ]
     },
     "metadata": {},
     "output_type": "display_data"
    },
    {
     "data": {
      "text/plain": [
       "[{'label': 'LABEL_1', 'score': 0.9657977223396301}]"
      ]
     },
     "metadata": {},
     "output_type": "display_data"
    },
    {
     "data": {
      "text/plain": [
       "[{'label': 'LABEL_2', 'score': 0.9904999136924744}]"
      ]
     },
     "metadata": {},
     "output_type": "display_data"
    },
    {
     "data": {
      "text/plain": [
       "[{'label': 'LABEL_3', 'score': 0.703781008720398}]"
      ]
     },
     "metadata": {},
     "output_type": "display_data"
    },
    {
     "data": {
      "text/plain": [
       "[{'label': 'LABEL_4', 'score': 0.9868505001068115}]"
      ]
     },
     "metadata": {},
     "output_type": "display_data"
    },
    {
     "data": {
      "text/plain": [
       "[{'label': 'LABEL_5', 'score': 0.8160880208015442}]"
      ]
     },
     "metadata": {},
     "output_type": "display_data"
    }
   ],
   "source": [
    "display(pipeline(\"I am angry!\"))\n",
    "display(pipeline(\"I am scared!\"))\n",
    "display(pipeline(\"I am happy!\"))\n",
    "display(pipeline(\"I love it!\"))\n",
    "display(pipeline(\"I am sad!\"))\n",
    "display(pipeline(\"I am surprised!\"))\n"
   ]
  },
  {
   "cell_type": "code",
   "execution_count": 48,
   "id": "a3dae472",
   "metadata": {},
   "outputs": [
    {
     "data": {
      "text/plain": [
       "2"
      ]
     },
     "execution_count": 48,
     "metadata": {},
     "output_type": "execute_result"
    }
   ],
   "source": [
    "def model_pred(sentence):\n",
    "    return int(pipeline(sentence)[0]['label'].split('_')[-1])\n",
    "\n",
    "# TEST..\n",
    "model_pred(\"today is a good day\")"
   ]
  },
  {
   "cell_type": "markdown",
   "id": "5a620375",
   "metadata": {},
   "source": [
    "### Predict evaluation dataset with model."
   ]
  },
  {
   "cell_type": "code",
   "execution_count": 53,
   "id": "35a66daa",
   "metadata": {},
   "outputs": [
    {
     "name": "stdout",
     "output_type": "stream",
     "text": [
      "took 39.07003211975098s, to evaluate the dataset consists of 6000 rows of data.\n"
     ]
    }
   ],
   "source": [
    "import time\n",
    "start = time.time()\n",
    "\n",
    "y_pred = [model_pred(x) for x in evaluation_data]\n",
    "\n",
    "end = time.time()\n",
    "total = end - start\n",
    "print(f\"took {total}s, to evaluate the dataset consists of {len(df)} rows of data.\")\n"
   ]
  },
  {
   "cell_type": "markdown",
   "id": "75e5b202",
   "metadata": {},
   "source": [
    "### Model evluation "
   ]
  },
  {
   "attachments": {
    "image.png": {
     "image/png": "[encoded data removed]"
    }
   },
   "cell_type": "markdown",
   "id": "e1d422bb",
   "metadata": {},
   "source": [
    "![image.png](attachment:image.png)\n",
    "Understanding multiclass confusion matrix."
   ]
  },
  {
   "cell_type": "code",
   "execution_count": 79,
   "id": "736fca1d",
   "metadata": {},
   "outputs": [
    {
     "data": {
      "text/plain": [
       "['anger', 'fear', 'joy', 'love', 'sadness', 'surprise']"
      ]
     },
     "execution_count": 79,
     "metadata": {},
     "output_type": "execute_result"
    }
   ],
   "source": [
    "list(emotions.values())"
   ]
  },
  {
   "cell_type": "code",
   "execution_count": null,
   "id": "15ccc75e",
   "metadata": {},
   "outputs": [],
   "source": []
  },
  {
   "cell_type": "code",
   "execution_count": 91,
   "id": "f2fd55b4",
   "metadata": {},
   "outputs": [
    {
     "data": {
      "text/html": [
       "<div>\n",
       "<style scoped>\n",
       "    .dataframe tbody tr th:only-of-type {\n",
       "        vertical-align: middle;\n",
       "    }\n",
       "\n",
       "    .dataframe tbody tr th {\n",
       "        vertical-align: top;\n",
       "    }\n",
       "\n",
       "    .dataframe thead tr th {\n",
       "        text-align: left;\n",
       "    }\n",
       "</style>\n",
       "<table border=\"1\" class=\"dataframe\">\n",
       "  <thead>\n",
       "    <tr>\n",
       "      <th></th>\n",
       "      <th></th>\n",
       "      <th colspan=\"6\" halign=\"left\">Predicted</th>\n",
       "    </tr>\n",
       "    <tr>\n",
       "      <th></th>\n",
       "      <th></th>\n",
       "      <th>anger</th>\n",
       "      <th>fear</th>\n",
       "      <th>joy</th>\n",
       "      <th>love</th>\n",
       "      <th>sadness</th>\n",
       "      <th>surprise</th>\n",
       "    </tr>\n",
       "  </thead>\n",
       "  <tbody>\n",
       "    <tr>\n",
       "      <th rowspan=\"6\" valign=\"top\">Actual</th>\n",
       "      <th>anger</th>\n",
       "      <td>758</td>\n",
       "      <td>20</td>\n",
       "      <td>10</td>\n",
       "      <td>7</td>\n",
       "      <td>33</td>\n",
       "      <td>0</td>\n",
       "    </tr>\n",
       "    <tr>\n",
       "      <th>fear</th>\n",
       "      <td>21</td>\n",
       "      <td>635</td>\n",
       "      <td>3</td>\n",
       "      <td>0</td>\n",
       "      <td>21</td>\n",
       "      <td>5</td>\n",
       "    </tr>\n",
       "    <tr>\n",
       "      <th>joy</th>\n",
       "      <td>9</td>\n",
       "      <td>7</td>\n",
       "      <td>1892</td>\n",
       "      <td>86</td>\n",
       "      <td>21</td>\n",
       "      <td>6</td>\n",
       "    </tr>\n",
       "    <tr>\n",
       "      <th>love</th>\n",
       "      <td>8</td>\n",
       "      <td>3</td>\n",
       "      <td>72</td>\n",
       "      <td>414</td>\n",
       "      <td>5</td>\n",
       "      <td>1</td>\n",
       "    </tr>\n",
       "    <tr>\n",
       "      <th>sadness</th>\n",
       "      <td>20</td>\n",
       "      <td>26</td>\n",
       "      <td>12</td>\n",
       "      <td>7</td>\n",
       "      <td>1681</td>\n",
       "      <td>0</td>\n",
       "    </tr>\n",
       "    <tr>\n",
       "      <th>surprise</th>\n",
       "      <td>1</td>\n",
       "      <td>49</td>\n",
       "      <td>16</td>\n",
       "      <td>2</td>\n",
       "      <td>6</td>\n",
       "      <td>143</td>\n",
       "    </tr>\n",
       "  </tbody>\n",
       "</table>\n",
       "</div>"
      ],
      "text/plain": [
       "                Predicted                                 \n",
       "                    anger fear   joy love sadness surprise\n",
       "Actual anger          758   20    10    7      33        0\n",
       "       fear            21  635     3    0      21        5\n",
       "       joy              9    7  1892   86      21        6\n",
       "       love             8    3    72  414       5        1\n",
       "       sadness         20   26    12    7    1681        0\n",
       "       surprise         1   49    16    2       6      143"
      ]
     },
     "execution_count": 91,
     "metadata": {},
     "output_type": "execute_result"
    }
   ],
   "source": [
    "# CONFUSION MATRIX \n",
    "from sklearn.metrics import confusion_matrix\n",
    "confusion_matrix(y_true, y_pred)\n",
    "\n",
    "df_test = pd.DataFrame(confusion_matrix(y_true, y_pred), columns = list(emotions.values()), index = list(emotions.values()))\n",
    "df_test = pd.concat([df_test], keys=['Actual'])\n",
    "df_test = pd.concat([df_test],keys=['Predicted'], axis =1  )\n",
    "df_test"
   ]
  },
  {
   "cell_type": "code",
   "execution_count": 63,
   "id": "79662341",
   "metadata": {},
   "outputs": [
    {
     "name": "stdout",
     "output_type": "stream",
     "text": [
      "0.9199303425125851\n",
      "0.9213166295870436\n",
      "0.9205\n",
      "0.9205\n"
     ]
    }
   ],
   "source": [
    "from sklearn.metrics import *\n",
    "f1_s = f1_score(y_true, y_pred, average='weighted')\n",
    "p_s = precision_score(y_true, y_pred, average='weighted')\n",
    "r_s = recall_score(y_true, y_pred, average='weighted')\n",
    "acc_s = accuracy_score(y_true, y_pred)\n",
    "\n",
    "print(f1_s)\n",
    "print(p_s)\n",
    "print(r_s)\n",
    "print(acc_s)"
   ]
  },
  {
   "cell_type": "code",
   "execution_count": null,
   "id": "60f3c293",
   "metadata": {},
   "outputs": [],
   "source": []
  },
  {
   "cell_type": "code",
   "execution_count": null,
   "id": "ec79b842",
   "metadata": {},
   "outputs": [],
   "source": []
  },
  {
   "cell_type": "markdown",
   "id": "52dc5574",
   "metadata": {},
   "source": [
    "# Model 2: distilbert-base-cased"
   ]
  },
  {
   "cell_type": "code",
   "execution_count": 39,
   "id": "a34a96e0",
   "metadata": {},
   "outputs": [],
   "source": [
    "columns = [\"Epoch\", \"Training Loss\", \"Validation Loss\", \"Accuracy\"]\n",
    "raw_data = [(1, 0.301200, 0.204732, 0.928000),\n",
    "    (2, 0.164300, 0.235428, 0.932333),\n",
    "    (3, 0.109400, 0.240060, 0.929833)]    \n",
    "df = pd.DataFrame(raw_data, columns=columns)"
   ]
  },
  {
   "cell_type": "code",
   "execution_count": 40,
   "id": "a94ce67f",
   "metadata": {},
   "outputs": [
    {
     "data": {
      "text/html": [
       "<div>\n",
       "<style scoped>\n",
       "    .dataframe tbody tr th:only-of-type {\n",
       "        vertical-align: middle;\n",
       "    }\n",
       "\n",
       "    .dataframe tbody tr th {\n",
       "        vertical-align: top;\n",
       "    }\n",
       "\n",
       "    .dataframe thead th {\n",
       "        text-align: right;\n",
       "    }\n",
       "</style>\n",
       "<table border=\"1\" class=\"dataframe\">\n",
       "  <thead>\n",
       "    <tr style=\"text-align: right;\">\n",
       "      <th></th>\n",
       "      <th>Epoch</th>\n",
       "      <th>Training Loss</th>\n",
       "      <th>Validation Loss</th>\n",
       "      <th>Accuracy</th>\n",
       "    </tr>\n",
       "  </thead>\n",
       "  <tbody>\n",
       "    <tr>\n",
       "      <th>0</th>\n",
       "      <td>1</td>\n",
       "      <td>0.3012</td>\n",
       "      <td>0.204732</td>\n",
       "      <td>0.928000</td>\n",
       "    </tr>\n",
       "    <tr>\n",
       "      <th>1</th>\n",
       "      <td>2</td>\n",
       "      <td>0.1643</td>\n",
       "      <td>0.235428</td>\n",
       "      <td>0.932333</td>\n",
       "    </tr>\n",
       "    <tr>\n",
       "      <th>2</th>\n",
       "      <td>3</td>\n",
       "      <td>0.1094</td>\n",
       "      <td>0.240060</td>\n",
       "      <td>0.929833</td>\n",
       "    </tr>\n",
       "  </tbody>\n",
       "</table>\n",
       "</div>"
      ],
      "text/plain": [
       "   Epoch  Training Loss  Validation Loss  Accuracy\n",
       "0      1         0.3012         0.204732  0.928000\n",
       "1      2         0.1643         0.235428  0.932333\n",
       "2      3         0.1094         0.240060  0.929833"
      ]
     },
     "execution_count": 40,
     "metadata": {},
     "output_type": "execute_result"
    }
   ],
   "source": [
    "df"
   ]
  },
  {
   "cell_type": "code",
   "execution_count": 41,
   "id": "41d2a1b2",
   "metadata": {},
   "outputs": [
    {
     "data": {
      "text/plain": [
       "Text(0.5, 1.0, 'Model Google-distilbert-base-cased Training & Validation Loss')"
      ]
     },
     "execution_count": 41,
     "metadata": {},
     "output_type": "execute_result"
    },
    {
     "data": {
      "image/png": "[encoded data removed]",
      "text/plain": [
       "<Figure size 720x576 with 2 Axes>"
      ]
     },
     "metadata": {},
     "output_type": "display_data"
    }
   ],
   "source": [
    "\n",
    "fig, ax = plt.subplots(figsize=(10,8))\n",
    "\n",
    "first = sns.lineplot(data=df, x= 'Epoch', y='Training Loss', color=\"g\", ax =ax)\n",
    "\n",
    "sns.lineplot(data=df, x= 'Epoch', y='Validation Loss', color=\"b\", ax=first.axes.twinx())\n",
    "\n",
    "first.legend(handles=[Line2D([], [], marker='_', color=\"g\", label='Training Loss'), \n",
    "                      Line2D([], [], marker='_', color=\"b\", label='Validation Loss')])\n",
    "\n",
    "ax.set_title(\"Model Google-distilbert-base-cased Training & Validation Loss\")"
   ]
  },
  {
   "cell_type": "code",
   "execution_count": 42,
   "id": "4e54a2b7",
   "metadata": {},
   "outputs": [],
   "source": [
    "first.figure.savefig('Model_2-Google-distilbert-base-cased Training & Validation Loss.png')"
   ]
  },
  {
   "cell_type": "code",
   "execution_count": null,
   "id": "48479687",
   "metadata": {},
   "outputs": [],
   "source": []
  },
  {
   "cell_type": "markdown",
   "id": "085a3e1d",
   "metadata": {},
   "source": [
    "## Import fine tuned model "
   ]
  },
  {
   "cell_type": "code",
   "execution_count": 46,
   "id": "f0e46e89",
   "metadata": {},
   "outputs": [],
   "source": [
    "tokenizer = AutoTokenizer.from_pretrained(\"distilbert-base-cased\")\n",
    "model = AutoModelForSequenceClassification.from_pretrained(\"./model/google-distillber-base-cased/distilbert-base-cased_emo-classification/\")"
   ]
  },
  {
   "cell_type": "code",
   "execution_count": 47,
   "id": "338ac8b2",
   "metadata": {},
   "outputs": [],
   "source": [
    "pipeline = transformers.pipeline(\"text-classification\",model=model,tokenizer=tokenizer)"
   ]
  },
  {
   "cell_type": "code",
   "execution_count": 48,
   "id": "d9cb20c9",
   "metadata": {},
   "outputs": [
    {
     "data": {
      "text/plain": [
       "{0: 'anger', 1: 'fear', 2: 'joy', 3: 'love', 4: 'sadness', 5: 'surprise'}"
      ]
     },
     "execution_count": 48,
     "metadata": {},
     "output_type": "execute_result"
    }
   ],
   "source": [
    "emotions"
   ]
  },
  {
   "cell_type": "code",
   "execution_count": 49,
   "id": "f385f4c6",
   "metadata": {},
   "outputs": [
    {
     "data": {
      "text/plain": [
       "[{'label': 'LABEL_0', 'score': 0.9974804520606995}]"
      ]
     },
     "metadata": {},
     "output_type": "display_data"
    },
    {
     "data": {
      "text/plain": [
       "[{'label': 'LABEL_1', 'score': 0.9992560744285583}]"
      ]
     },
     "metadata": {},
     "output_type": "display_data"
    },
    {
     "data": {
      "text/plain": [
       "[{'label': 'LABEL_2', 'score': 0.9997629523277283}]"
      ]
     },
     "metadata": {},
     "output_type": "display_data"
    },
    {
     "data": {
      "text/plain": [
       "[{'label': 'LABEL_2', 'score': 0.5036839842796326}]"
      ]
     },
     "metadata": {},
     "output_type": "display_data"
    },
    {
     "data": {
      "text/plain": [
       "[{'label': 'LABEL_4', 'score': 0.99293053150177}]"
      ]
     },
     "metadata": {},
     "output_type": "display_data"
    },
    {
     "data": {
      "text/plain": [
       "[{'label': 'LABEL_5', 'score': 0.9976279139518738}]"
      ]
     },
     "metadata": {},
     "output_type": "display_data"
    }
   ],
   "source": [
    "display(pipeline(\"I am angry!\"))\n",
    "display(pipeline(\"I am scared!\"))\n",
    "display(pipeline(\"I am happy!\"))\n",
    "display(pipeline(\"I love it!\"))\n",
    "display(pipeline(\"I am sad!\"))\n",
    "display(pipeline(\"I am surprised!\"))\n"
   ]
  },
  {
   "cell_type": "code",
   "execution_count": 50,
   "id": "f2b3baeb",
   "metadata": {},
   "outputs": [
    {
     "data": {
      "text/plain": [
       "2"
      ]
     },
     "execution_count": 50,
     "metadata": {},
     "output_type": "execute_result"
    }
   ],
   "source": [
    "def model_pred(sentence):\n",
    "    return int(pipeline(sentence)[0]['label'].split('_')[-1])\n",
    "\n",
    "# TEST..\n",
    "model_pred(\"today is a good day\")"
   ]
  },
  {
   "cell_type": "markdown",
   "id": "a4c15c79",
   "metadata": {},
   "source": [
    "### Predict evaluation dataset with model "
   ]
  },
  {
   "cell_type": "code",
   "execution_count": 56,
   "id": "db35d60f",
   "metadata": {},
   "outputs": [
    {
     "name": "stdout",
     "output_type": "stream",
     "text": [
      "took 112.49158692359924s, to evaluate the dataset consists of 6000 rows of data.\n"
     ]
    }
   ],
   "source": [
    "import time\n",
    "start = time.time()\n",
    "\n",
    "y_pred = [model_pred(x) for x in evaluation_data]\n",
    "\n",
    "end = time.time()\n",
    "total = end - start\n",
    "print(f\"took {total}s, to evaluate the dataset consists of {len(df)} rows of data.\")\n"
   ]
  },
  {
   "cell_type": "markdown",
   "id": "03b80fe9",
   "metadata": {},
   "source": [
    "## Model evaluation"
   ]
  },
  {
   "cell_type": "code",
   "execution_count": 57,
   "id": "cc98d492",
   "metadata": {},
   "outputs": [
    {
     "data": {
      "text/html": [
       "<div>\n",
       "<style scoped>\n",
       "    .dataframe tbody tr th:only-of-type {\n",
       "        vertical-align: middle;\n",
       "    }\n",
       "\n",
       "    .dataframe tbody tr th {\n",
       "        vertical-align: top;\n",
       "    }\n",
       "\n",
       "    .dataframe thead tr th {\n",
       "        text-align: left;\n",
       "    }\n",
       "</style>\n",
       "<table border=\"1\" class=\"dataframe\">\n",
       "  <thead>\n",
       "    <tr>\n",
       "      <th></th>\n",
       "      <th></th>\n",
       "      <th colspan=\"6\" halign=\"left\">Predicted</th>\n",
       "    </tr>\n",
       "    <tr>\n",
       "      <th></th>\n",
       "      <th></th>\n",
       "      <th>anger</th>\n",
       "      <th>fear</th>\n",
       "      <th>joy</th>\n",
       "      <th>love</th>\n",
       "      <th>sadness</th>\n",
       "      <th>surprise</th>\n",
       "    </tr>\n",
       "  </thead>\n",
       "  <tbody>\n",
       "    <tr>\n",
       "      <th rowspan=\"6\" valign=\"top\">Actual</th>\n",
       "      <th>anger</th>\n",
       "      <td>734</td>\n",
       "      <td>43</td>\n",
       "      <td>25</td>\n",
       "      <td>2</td>\n",
       "      <td>24</td>\n",
       "      <td>0</td>\n",
       "    </tr>\n",
       "    <tr>\n",
       "      <th>fear</th>\n",
       "      <td>2</td>\n",
       "      <td>598</td>\n",
       "      <td>4</td>\n",
       "      <td>1</td>\n",
       "      <td>19</td>\n",
       "      <td>61</td>\n",
       "    </tr>\n",
       "    <tr>\n",
       "      <th>joy</th>\n",
       "      <td>2</td>\n",
       "      <td>5</td>\n",
       "      <td>1973</td>\n",
       "      <td>29</td>\n",
       "      <td>11</td>\n",
       "      <td>1</td>\n",
       "    </tr>\n",
       "    <tr>\n",
       "      <th>love</th>\n",
       "      <td>2</td>\n",
       "      <td>0</td>\n",
       "      <td>101</td>\n",
       "      <td>398</td>\n",
       "      <td>2</td>\n",
       "      <td>0</td>\n",
       "    </tr>\n",
       "    <tr>\n",
       "      <th>sadness</th>\n",
       "      <td>27</td>\n",
       "      <td>14</td>\n",
       "      <td>18</td>\n",
       "      <td>0</td>\n",
       "      <td>1687</td>\n",
       "      <td>0</td>\n",
       "    </tr>\n",
       "    <tr>\n",
       "      <th>surprise</th>\n",
       "      <td>0</td>\n",
       "      <td>6</td>\n",
       "      <td>23</td>\n",
       "      <td>1</td>\n",
       "      <td>3</td>\n",
       "      <td>184</td>\n",
       "    </tr>\n",
       "  </tbody>\n",
       "</table>\n",
       "</div>"
      ],
      "text/plain": [
       "                Predicted                                 \n",
       "                    anger fear   joy love sadness surprise\n",
       "Actual anger          734   43    25    2      24        0\n",
       "       fear             2  598     4    1      19       61\n",
       "       joy              2    5  1973   29      11        1\n",
       "       love             2    0   101  398       2        0\n",
       "       sadness         27   14    18    0    1687        0\n",
       "       surprise         0    6    23    1       3      184"
      ]
     },
     "execution_count": 57,
     "metadata": {},
     "output_type": "execute_result"
    }
   ],
   "source": [
    "# CONFUSION MATRIX \n",
    "from sklearn.metrics import confusion_matrix\n",
    "confusion_matrix(y_true, y_pred)\n",
    "\n",
    "df_test = pd.DataFrame(confusion_matrix(y_true, y_pred), columns = list(emotions.values()), index = list(emotions.values()))\n",
    "df_test = pd.concat([df_test], keys=['Actual'])\n",
    "df_test = pd.concat([df_test],keys=['Predicted'], axis =1  )\n",
    "df_test"
   ]
  },
  {
   "cell_type": "code",
   "execution_count": 100,
   "id": "8da681cb",
   "metadata": {},
   "outputs": [
    {
     "name": "stdout",
     "output_type": "stream",
     "text": [
      "0.9285618962726909\n",
      "0.9301736498261531\n",
      "0.929\n",
      "0.929\n"
     ]
    }
   ],
   "source": [
    "from sklearn.metrics import *\n",
    "f1_s = f1_score(y_true, y_pred, average='weighted')\n",
    "p_s = precision_score(y_true, y_pred, average='weighted')\n",
    "r_s = recall_score(y_true, y_pred, average='weighted')\n",
    "acc_s = accuracy_score(y_true, y_pred)\n",
    "\n",
    "print(f1_s)\n",
    "print(p_s)\n",
    "print(r_s)\n",
    "print(acc_s)"
   ]
  },
  {
   "cell_type": "code",
   "execution_count": null,
   "id": "3946f519",
   "metadata": {},
   "outputs": [],
   "source": []
  },
  {
   "cell_type": "code",
   "execution_count": null,
   "id": "3b7d53d0",
   "metadata": {},
   "outputs": [],
   "source": []
  },
  {
   "cell_type": "code",
   "execution_count": null,
   "id": "732ed4f4",
   "metadata": {},
   "outputs": [],
   "source": []
  },
  {
   "cell_type": "markdown",
   "id": "c467fe45",
   "metadata": {},
   "source": [
    "# Model 3: bert-base-cased"
   ]
  },
  {
   "cell_type": "code",
   "execution_count": 60,
   "id": "12fcea50",
   "metadata": {},
   "outputs": [
    {
     "data": {
      "text/html": [
       "<div>\n",
       "<style scoped>\n",
       "    .dataframe tbody tr th:only-of-type {\n",
       "        vertical-align: middle;\n",
       "    }\n",
       "\n",
       "    .dataframe tbody tr th {\n",
       "        vertical-align: top;\n",
       "    }\n",
       "\n",
       "    .dataframe thead th {\n",
       "        text-align: right;\n",
       "    }\n",
       "</style>\n",
       "<table border=\"1\" class=\"dataframe\">\n",
       "  <thead>\n",
       "    <tr style=\"text-align: right;\">\n",
       "      <th></th>\n",
       "      <th>Epoch</th>\n",
       "      <th>Training Loss</th>\n",
       "      <th>Validation Loss</th>\n",
       "      <th>Accuracy</th>\n",
       "    </tr>\n",
       "  </thead>\n",
       "  <tbody>\n",
       "    <tr>\n",
       "      <th>0</th>\n",
       "      <td>1</td>\n",
       "      <td>0.3385</td>\n",
       "      <td>0.267363</td>\n",
       "      <td>0.919833</td>\n",
       "    </tr>\n",
       "    <tr>\n",
       "      <th>1</th>\n",
       "      <td>2</td>\n",
       "      <td>0.1878</td>\n",
       "      <td>0.250565</td>\n",
       "      <td>0.926833</td>\n",
       "    </tr>\n",
       "    <tr>\n",
       "      <th>2</th>\n",
       "      <td>3</td>\n",
       "      <td>0.1669</td>\n",
       "      <td>0.213768</td>\n",
       "      <td>0.935167</td>\n",
       "    </tr>\n",
       "    <tr>\n",
       "      <th>3</th>\n",
       "      <td>4</td>\n",
       "      <td>0.1128</td>\n",
       "      <td>0.302637</td>\n",
       "      <td>0.929167</td>\n",
       "    </tr>\n",
       "    <tr>\n",
       "      <th>4</th>\n",
       "      <td>5</td>\n",
       "      <td>0.0623</td>\n",
       "      <td>0.402976</td>\n",
       "      <td>0.928167</td>\n",
       "    </tr>\n",
       "    <tr>\n",
       "      <th>5</th>\n",
       "      <td>6</td>\n",
       "      <td>0.0386</td>\n",
       "      <td>0.411643</td>\n",
       "      <td>0.928500</td>\n",
       "    </tr>\n",
       "  </tbody>\n",
       "</table>\n",
       "</div>"
      ],
      "text/plain": [
       "   Epoch  Training Loss  Validation Loss  Accuracy\n",
       "0      1         0.3385         0.267363  0.919833\n",
       "1      2         0.1878         0.250565  0.926833\n",
       "2      3         0.1669         0.213768  0.935167\n",
       "3      4         0.1128         0.302637  0.929167\n",
       "4      5         0.0623         0.402976  0.928167\n",
       "5      6         0.0386         0.411643  0.928500"
      ]
     },
     "execution_count": 60,
     "metadata": {},
     "output_type": "execute_result"
    }
   ],
   "source": [
    "\n",
    "columns = [\"Epoch\", \"Training Loss\", \"Validation Loss\", \"Accuracy\"]\n",
    "\n",
    "raw_data = [(1, 0.338500, 0.267363, 0.919833),\n",
    "            (2, 0.187800, 0.250565, 0.926833),\n",
    "            (3, 0.166900, 0.213768, 0.935167),\n",
    "            (4, 0.112800, 0.302637, 0.929167),\n",
    "            (5, 0.062300, 0.402976, 0.928167),\n",
    "            (6, 0.038600, 0.411643, 0.928500)]\n",
    "df = pd.DataFrame(raw_data, columns = columns)\n",
    "df"
   ]
  },
  {
   "cell_type": "code",
   "execution_count": 61,
   "id": "96ecc7d1",
   "metadata": {},
   "outputs": [
    {
     "data": {
      "text/plain": [
       "Text(0.5, 1.0, 'Model Google-bert-base-cased Training & Validation Loss')"
      ]
     },
     "execution_count": 61,
     "metadata": {},
     "output_type": "execute_result"
    },
    {
     "data": {
      "image/png": "[encoded data removed]",
      "text/plain": [
       "<Figure size 720x576 with 2 Axes>"
      ]
     },
     "metadata": {},
     "output_type": "display_data"
    }
   ],
   "source": [
    "\n",
    "fig, ax = plt.subplots(figsize=(10,8))\n",
    "\n",
    "first = sns.lineplot(data=df, x= 'Epoch', y='Training Loss', color=\"g\", ax =ax)\n",
    "\n",
    "sns.lineplot(data=df, x= 'Epoch', y='Validation Loss', color=\"b\", ax=first.axes.twinx())\n",
    "\n",
    "first.legend(handles=[Line2D([], [], marker='_', color=\"g\", label='Training Loss'), \n",
    "                      Line2D([], [], marker='_', color=\"b\", label='Validation Loss')])\n",
    "\n",
    "ax.set_title(\"Model Google-bert-base-cased Training & Validation Loss\")\n"
   ]
  },
  {
   "cell_type": "code",
   "execution_count": 62,
   "id": "8f6e6eef",
   "metadata": {},
   "outputs": [],
   "source": [
    "first.figure.savefig('Model_3-Google-bert-base-cased Training & Validation Loss.png')"
   ]
  },
  {
   "cell_type": "markdown",
   "id": "da5ac48e",
   "metadata": {},
   "source": [
    "## Import fine tuned model"
   ]
  },
  {
   "cell_type": "code",
   "execution_count": 106,
   "id": "4f3fcd86",
   "metadata": {},
   "outputs": [],
   "source": [
    "tokenizer = AutoTokenizer.from_pretrained('bert-base-cased')\n",
    "model = AutoModelForSequenceClassification.from_pretrained(\"./google-bert-base-cased/checkpoint-4500/\")"
   ]
  },
  {
   "cell_type": "code",
   "execution_count": 107,
   "id": "747ffd61",
   "metadata": {},
   "outputs": [],
   "source": [
    "pipeline = transformers.pipeline(\"text-classification\",model=model,tokenizer=tokenizer)"
   ]
  },
  {
   "cell_type": "code",
   "execution_count": 108,
   "id": "c70f4254",
   "metadata": {},
   "outputs": [
    {
     "data": {
      "text/plain": [
       "[{'label': 'LABEL_0', 'score': 0.9993446469306946}]"
      ]
     },
     "metadata": {},
     "output_type": "display_data"
    },
    {
     "data": {
      "text/plain": [
       "[{'label': 'LABEL_1', 'score': 0.9994953870773315}]"
      ]
     },
     "metadata": {},
     "output_type": "display_data"
    },
    {
     "data": {
      "text/plain": [
       "[{'label': 'LABEL_2', 'score': 0.9990615248680115}]"
      ]
     },
     "metadata": {},
     "output_type": "display_data"
    },
    {
     "data": {
      "text/plain": [
       "[{'label': 'LABEL_0', 'score': 0.9844323396682739}]"
      ]
     },
     "metadata": {},
     "output_type": "display_data"
    },
    {
     "data": {
      "text/plain": [
       "[{'label': 'LABEL_4', 'score': 0.9995754361152649}]"
      ]
     },
     "metadata": {},
     "output_type": "display_data"
    },
    {
     "data": {
      "text/plain": [
       "[{'label': 'LABEL_5', 'score': 0.9986791014671326}]"
      ]
     },
     "metadata": {},
     "output_type": "display_data"
    }
   ],
   "source": [
    "# This model failed basic test, tho other classes are predicted with high confidence score. \n",
    "display(pipeline(\"I am angry!\"))\n",
    "display(pipeline(\"I am scared!\"))\n",
    "display(pipeline(\"I am happy!\"))\n",
    "display(pipeline(\"I love it!\"))\n",
    "display(pipeline(\"I am sad!\"))\n",
    "display(pipeline(\"I am surprised!\"))\n"
   ]
  },
  {
   "cell_type": "code",
   "execution_count": 109,
   "id": "206c5353",
   "metadata": {},
   "outputs": [
    {
     "data": {
      "text/plain": [
       "2"
      ]
     },
     "execution_count": 109,
     "metadata": {},
     "output_type": "execute_result"
    }
   ],
   "source": [
    "def model_pred(sentence):\n",
    "    return int(pipeline(sentence)[0]['label'].split('_')[-1])\n",
    "\n",
    "# TEST..\n",
    "model_pred(\"today is a good day\")"
   ]
  },
  {
   "cell_type": "code",
   "execution_count": 110,
   "id": "67174d3f",
   "metadata": {},
   "outputs": [
    {
     "data": {
      "text/plain": [
       "{0: 'anger', 1: 'fear', 2: 'joy', 3: 'love', 4: 'sadness', 5: 'surprise'}"
      ]
     },
     "execution_count": 110,
     "metadata": {},
     "output_type": "execute_result"
    }
   ],
   "source": [
    "emotions"
   ]
  },
  {
   "cell_type": "markdown",
   "id": "4b424cd5",
   "metadata": {},
   "source": [
    "### Predict evaluation dataset with model "
   ]
  },
  {
   "cell_type": "code",
   "execution_count": 111,
   "id": "8f1d9c75",
   "metadata": {},
   "outputs": [
    {
     "name": "stdout",
     "output_type": "stream",
     "text": [
      "took 227.18234872817993s, to evaluate the dataset consists of 6000 rows of data.\n"
     ]
    }
   ],
   "source": [
    "import time\n",
    "start = time.time()\n",
    "\n",
    "y_pred = [model_pred(x) for x in evaluation_data]\n",
    "\n",
    "end = time.time()\n",
    "total = end - start\n",
    "print(f\"took {total}s, to evaluate the dataset consists of {len(df)} rows of data.\")\n"
   ]
  },
  {
   "cell_type": "markdown",
   "id": "d9d01548",
   "metadata": {},
   "source": [
    "## Model evaluation"
   ]
  },
  {
   "cell_type": "code",
   "execution_count": 112,
   "id": "b09cebed",
   "metadata": {},
   "outputs": [
    {
     "data": {
      "text/html": [
       "<div>\n",
       "<style scoped>\n",
       "    .dataframe tbody tr th:only-of-type {\n",
       "        vertical-align: middle;\n",
       "    }\n",
       "\n",
       "    .dataframe tbody tr th {\n",
       "        vertical-align: top;\n",
       "    }\n",
       "\n",
       "    .dataframe thead tr th {\n",
       "        text-align: left;\n",
       "    }\n",
       "</style>\n",
       "<table border=\"1\" class=\"dataframe\">\n",
       "  <thead>\n",
       "    <tr>\n",
       "      <th></th>\n",
       "      <th></th>\n",
       "      <th colspan=\"6\" halign=\"left\">Predicted</th>\n",
       "    </tr>\n",
       "    <tr>\n",
       "      <th></th>\n",
       "      <th></th>\n",
       "      <th>anger</th>\n",
       "      <th>fear</th>\n",
       "      <th>joy</th>\n",
       "      <th>love</th>\n",
       "      <th>sadness</th>\n",
       "      <th>surprise</th>\n",
       "    </tr>\n",
       "  </thead>\n",
       "  <tbody>\n",
       "    <tr>\n",
       "      <th rowspan=\"6\" valign=\"top\">Actual</th>\n",
       "      <th>anger</th>\n",
       "      <td>809</td>\n",
       "      <td>2</td>\n",
       "      <td>5</td>\n",
       "      <td>2</td>\n",
       "      <td>10</td>\n",
       "      <td>0</td>\n",
       "    </tr>\n",
       "    <tr>\n",
       "      <th>fear</th>\n",
       "      <td>38</td>\n",
       "      <td>614</td>\n",
       "      <td>0</td>\n",
       "      <td>1</td>\n",
       "      <td>30</td>\n",
       "      <td>2</td>\n",
       "    </tr>\n",
       "    <tr>\n",
       "      <th>joy</th>\n",
       "      <td>10</td>\n",
       "      <td>4</td>\n",
       "      <td>1913</td>\n",
       "      <td>75</td>\n",
       "      <td>9</td>\n",
       "      <td>10</td>\n",
       "    </tr>\n",
       "    <tr>\n",
       "      <th>love</th>\n",
       "      <td>5</td>\n",
       "      <td>1</td>\n",
       "      <td>65</td>\n",
       "      <td>429</td>\n",
       "      <td>3</td>\n",
       "      <td>0</td>\n",
       "    </tr>\n",
       "    <tr>\n",
       "      <th>sadness</th>\n",
       "      <td>44</td>\n",
       "      <td>6</td>\n",
       "      <td>13</td>\n",
       "      <td>0</td>\n",
       "      <td>1682</td>\n",
       "      <td>1</td>\n",
       "    </tr>\n",
       "    <tr>\n",
       "      <th>surprise</th>\n",
       "      <td>1</td>\n",
       "      <td>49</td>\n",
       "      <td>10</td>\n",
       "      <td>1</td>\n",
       "      <td>3</td>\n",
       "      <td>153</td>\n",
       "    </tr>\n",
       "  </tbody>\n",
       "</table>\n",
       "</div>"
      ],
      "text/plain": [
       "                Predicted                                 \n",
       "                    anger fear   joy love sadness surprise\n",
       "Actual anger          809    2     5    2      10        0\n",
       "       fear            38  614     0    1      30        2\n",
       "       joy             10    4  1913   75       9       10\n",
       "       love             5    1    65  429       3        0\n",
       "       sadness         44    6    13    0    1682        1\n",
       "       surprise         1   49    10    1       3      153"
      ]
     },
     "execution_count": 112,
     "metadata": {},
     "output_type": "execute_result"
    }
   ],
   "source": [
    "# CONFUSION MATRIX \n",
    "from sklearn.metrics import confusion_matrix\n",
    "confusion_matrix(y_true, y_pred)\n",
    "\n",
    "df_test = pd.DataFrame(confusion_matrix(y_true, y_pred), columns = list(emotions.values()), index = list(emotions.values()))\n",
    "df_test = pd.concat([df_test], keys=['Actual'])\n",
    "df_test = pd.concat([df_test],keys=['Predicted'], axis =1  )\n",
    "df_test"
   ]
  },
  {
   "cell_type": "code",
   "execution_count": 113,
   "id": "154fe0b6",
   "metadata": {},
   "outputs": [
    {
     "name": "stdout",
     "output_type": "stream",
     "text": [
      "0.9328245916803753\n",
      "0.9339189306545145\n",
      "0.9333333333333333\n",
      "0.9333333333333333\n"
     ]
    }
   ],
   "source": [
    "from sklearn.metrics import *\n",
    "f1_s = f1_score(y_true, y_pred, average='weighted')\n",
    "p_s = precision_score(y_true, y_pred, average='weighted')\n",
    "r_s = recall_score(y_true, y_pred, average='weighted')\n",
    "acc_s = accuracy_score(y_true, y_pred)\n",
    "\n",
    "print(f1_s)\n",
    "print(p_s)\n",
    "print(r_s)\n",
    "print(acc_s)"
   ]
  },
  {
   "cell_type": "code",
   "execution_count": null,
   "id": "b36fc189",
   "metadata": {},
   "outputs": [],
   "source": []
  }
 ],
 "metadata": {
  "kernelspec": {
   "display_name": "Python 3 (ipykernel)",
   "language": "python",
   "name": "python3"
  },
  "language_info": {
   "codemirror_mode": {
    "name": "ipython",
    "version": 3
   },
   "file_extension": ".py",
   "mimetype": "text/x-python",
   "name": "python",
   "nbconvert_exporter": "python",
   "pygments_lexer": "ipython3",
   "version": "3.8.13"
  }
 },
 "nbformat": 4,
 "nbformat_minor": 5
}
